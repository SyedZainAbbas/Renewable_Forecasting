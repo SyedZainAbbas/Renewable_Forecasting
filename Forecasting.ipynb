{
 "cells": [
  {
   "cell_type": "markdown",
   "id": "fbd6159f",
   "metadata": {
    "heading_collapsed": true
   },
   "source": [
    "## Dataset"
   ]
  },
  {
   "cell_type": "markdown",
   "id": "9bd9cd17",
   "metadata": {
    "code_folding": [],
    "hidden": true
   },
   "source": [
    "This dataset has two sets of files. Each set has two files.\n",
    "\n",
    " 1. **Power Generation Data:** Data collected by inverters at inverter level\n",
    " \n",
    " 2. **Weather Data:** Weather data collected by sensors at plant level"
   ]
  },
  {
   "cell_type": "markdown",
   "id": "5d710cea",
   "metadata": {
    "heading_collapsed": true
   },
   "source": [
    "## Power Generation Dataset"
   ]
  },
  {
   "cell_type": "markdown",
   "id": "316d5a09",
   "metadata": {
    "hidden": true
   },
   "source": [
    " `DATE_TIME:` 15 minutes timestamp for a 34 day period\n",
    " \n",
    " `PLANT_ID:` Each plant has its unique ID that remains constant  \n",
    " \n",
    " `SOURCE_KEY:` Unique ID for each inverter\n",
    " \n",
    " `DC_POWER:` DC power received by an inverter for a timestamp\n",
    " \n",
    " `AC_POWER:` DC power converted to AC power by an inverter for a timestamp\n",
    " \n",
    " `DAILY_YIELD:` Cummulative sum of power generated, on a day, till that point of time\n",
    " \n",
    " `TOTAL_YIELD:` Total yield for an inverter till that point of time\n",
    "        "
   ]
  },
  {
   "cell_type": "markdown",
   "id": "b9fdf08a",
   "metadata": {
    "heading_collapsed": true
   },
   "source": [
    "## Weather Dataset"
   ]
  },
  {
   "cell_type": "markdown",
   "id": "f903851c",
   "metadata": {
    "hidden": true
   },
   "source": [
    " `DATE_TIME:` 15 minutes timestamp for a 34 day period\n",
    " \n",
    " `PLANT_ID:` Each plant has its unique ID that remains constant  \n",
    " \n",
    " `SOURCE_KEY:` Unique ID for sensor\n",
    " \n",
    " `AMBIENT_TEMPERATURE:` Ambient temperature at the plant\n",
    " \n",
    " `MODULE_TEMPERATURE:` Temperature of the module (solar panel)\n",
    " \n",
    " `IRRADIATION:` Amount of irradiation for a timestamp"
   ]
  },
  {
   "cell_type": "markdown",
   "id": "19c5affe",
   "metadata": {},
   "source": [
    "## Dependencies"
   ]
  },
  {
   "cell_type": "code",
   "execution_count": 8,
   "id": "a6315c1a",
   "metadata": {
    "code_folding": []
   },
   "outputs": [],
   "source": [
    "# Libraries\n",
    "import pandas as pd\n",
    "import numpy as np\n",
    "import seaborn as sns\n",
    "import matplotlib.pyplot as plt\n",
    "import os\n",
    "import zipfile"
   ]
  },
  {
   "cell_type": "code",
   "execution_count": 78,
   "id": "470951ce",
   "metadata": {},
   "outputs": [],
   "source": [
    "# Dataset\n",
    "\n",
    "## Plant Generation Data\n",
    "df_gen = pd.read_csv('Plant_2_Generation_Data.csv')\n",
    "\n",
    "## Weather Data\n",
    "df_wthr = pd.read_csv('Plant_2_Weather_Sensor_Data.csv')"
   ]
  },
  {
   "cell_type": "code",
   "execution_count": 10,
   "id": "56909320",
   "metadata": {},
   "outputs": [
    {
     "data": {
      "text/html": [
       "<div>\n",
       "<style scoped>\n",
       "    .dataframe tbody tr th:only-of-type {\n",
       "        vertical-align: middle;\n",
       "    }\n",
       "\n",
       "    .dataframe tbody tr th {\n",
       "        vertical-align: top;\n",
       "    }\n",
       "\n",
       "    .dataframe thead th {\n",
       "        text-align: right;\n",
       "    }\n",
       "</style>\n",
       "<table border=\"1\" class=\"dataframe\">\n",
       "  <thead>\n",
       "    <tr style=\"text-align: right;\">\n",
       "      <th></th>\n",
       "      <th>DATE_TIME</th>\n",
       "      <th>PLANT_ID</th>\n",
       "      <th>SOURCE_KEY</th>\n",
       "      <th>DC_POWER</th>\n",
       "      <th>AC_POWER</th>\n",
       "      <th>DAILY_YIELD</th>\n",
       "      <th>TOTAL_YIELD</th>\n",
       "    </tr>\n",
       "  </thead>\n",
       "  <tbody>\n",
       "    <tr>\n",
       "      <th>0</th>\n",
       "      <td>2020-05-15 00:00:00</td>\n",
       "      <td>4136001</td>\n",
       "      <td>4UPUqMRk7TRMgml</td>\n",
       "      <td>0.0</td>\n",
       "      <td>0.0</td>\n",
       "      <td>9425.000000</td>\n",
       "      <td>2.429011e+06</td>\n",
       "    </tr>\n",
       "    <tr>\n",
       "      <th>1</th>\n",
       "      <td>2020-05-15 00:00:00</td>\n",
       "      <td>4136001</td>\n",
       "      <td>81aHJ1q11NBPMrL</td>\n",
       "      <td>0.0</td>\n",
       "      <td>0.0</td>\n",
       "      <td>0.000000</td>\n",
       "      <td>1.215279e+09</td>\n",
       "    </tr>\n",
       "    <tr>\n",
       "      <th>2</th>\n",
       "      <td>2020-05-15 00:00:00</td>\n",
       "      <td>4136001</td>\n",
       "      <td>9kRcWv60rDACzjR</td>\n",
       "      <td>0.0</td>\n",
       "      <td>0.0</td>\n",
       "      <td>3075.333333</td>\n",
       "      <td>2.247720e+09</td>\n",
       "    </tr>\n",
       "    <tr>\n",
       "      <th>3</th>\n",
       "      <td>2020-05-15 00:00:00</td>\n",
       "      <td>4136001</td>\n",
       "      <td>Et9kgGMDl729KT4</td>\n",
       "      <td>0.0</td>\n",
       "      <td>0.0</td>\n",
       "      <td>269.933333</td>\n",
       "      <td>1.704250e+06</td>\n",
       "    </tr>\n",
       "    <tr>\n",
       "      <th>4</th>\n",
       "      <td>2020-05-15 00:00:00</td>\n",
       "      <td>4136001</td>\n",
       "      <td>IQ2d7wF4YD8zU1Q</td>\n",
       "      <td>0.0</td>\n",
       "      <td>0.0</td>\n",
       "      <td>3177.000000</td>\n",
       "      <td>1.994153e+07</td>\n",
       "    </tr>\n",
       "  </tbody>\n",
       "</table>\n",
       "</div>"
      ],
      "text/plain": [
       "             DATE_TIME  PLANT_ID       SOURCE_KEY  DC_POWER  AC_POWER  \\\n",
       "0  2020-05-15 00:00:00   4136001  4UPUqMRk7TRMgml       0.0       0.0   \n",
       "1  2020-05-15 00:00:00   4136001  81aHJ1q11NBPMrL       0.0       0.0   \n",
       "2  2020-05-15 00:00:00   4136001  9kRcWv60rDACzjR       0.0       0.0   \n",
       "3  2020-05-15 00:00:00   4136001  Et9kgGMDl729KT4       0.0       0.0   \n",
       "4  2020-05-15 00:00:00   4136001  IQ2d7wF4YD8zU1Q       0.0       0.0   \n",
       "\n",
       "   DAILY_YIELD   TOTAL_YIELD  \n",
       "0  9425.000000  2.429011e+06  \n",
       "1     0.000000  1.215279e+09  \n",
       "2  3075.333333  2.247720e+09  \n",
       "3   269.933333  1.704250e+06  \n",
       "4  3177.000000  1.994153e+07  "
      ]
     },
     "execution_count": 10,
     "metadata": {},
     "output_type": "execute_result"
    }
   ],
   "source": [
    "df_gen.head()"
   ]
  },
  {
   "cell_type": "code",
   "execution_count": 11,
   "id": "8e068873",
   "metadata": {},
   "outputs": [
    {
     "data": {
      "text/html": [
       "<div>\n",
       "<style scoped>\n",
       "    .dataframe tbody tr th:only-of-type {\n",
       "        vertical-align: middle;\n",
       "    }\n",
       "\n",
       "    .dataframe tbody tr th {\n",
       "        vertical-align: top;\n",
       "    }\n",
       "\n",
       "    .dataframe thead th {\n",
       "        text-align: right;\n",
       "    }\n",
       "</style>\n",
       "<table border=\"1\" class=\"dataframe\">\n",
       "  <thead>\n",
       "    <tr style=\"text-align: right;\">\n",
       "      <th></th>\n",
       "      <th>DATE_TIME</th>\n",
       "      <th>PLANT_ID</th>\n",
       "      <th>SOURCE_KEY</th>\n",
       "      <th>AMBIENT_TEMPERATURE</th>\n",
       "      <th>MODULE_TEMPERATURE</th>\n",
       "      <th>IRRADIATION</th>\n",
       "    </tr>\n",
       "  </thead>\n",
       "  <tbody>\n",
       "    <tr>\n",
       "      <th>0</th>\n",
       "      <td>2020-05-15 00:00:00</td>\n",
       "      <td>4136001</td>\n",
       "      <td>iq8k7ZNt4Mwm3w0</td>\n",
       "      <td>27.004764</td>\n",
       "      <td>25.060789</td>\n",
       "      <td>0.0</td>\n",
       "    </tr>\n",
       "    <tr>\n",
       "      <th>1</th>\n",
       "      <td>2020-05-15 00:15:00</td>\n",
       "      <td>4136001</td>\n",
       "      <td>iq8k7ZNt4Mwm3w0</td>\n",
       "      <td>26.880811</td>\n",
       "      <td>24.421869</td>\n",
       "      <td>0.0</td>\n",
       "    </tr>\n",
       "    <tr>\n",
       "      <th>2</th>\n",
       "      <td>2020-05-15 00:30:00</td>\n",
       "      <td>4136001</td>\n",
       "      <td>iq8k7ZNt4Mwm3w0</td>\n",
       "      <td>26.682055</td>\n",
       "      <td>24.427290</td>\n",
       "      <td>0.0</td>\n",
       "    </tr>\n",
       "    <tr>\n",
       "      <th>3</th>\n",
       "      <td>2020-05-15 00:45:00</td>\n",
       "      <td>4136001</td>\n",
       "      <td>iq8k7ZNt4Mwm3w0</td>\n",
       "      <td>26.500589</td>\n",
       "      <td>24.420678</td>\n",
       "      <td>0.0</td>\n",
       "    </tr>\n",
       "    <tr>\n",
       "      <th>4</th>\n",
       "      <td>2020-05-15 01:00:00</td>\n",
       "      <td>4136001</td>\n",
       "      <td>iq8k7ZNt4Mwm3w0</td>\n",
       "      <td>26.596148</td>\n",
       "      <td>25.088210</td>\n",
       "      <td>0.0</td>\n",
       "    </tr>\n",
       "  </tbody>\n",
       "</table>\n",
       "</div>"
      ],
      "text/plain": [
       "             DATE_TIME  PLANT_ID       SOURCE_KEY  AMBIENT_TEMPERATURE  \\\n",
       "0  2020-05-15 00:00:00   4136001  iq8k7ZNt4Mwm3w0            27.004764   \n",
       "1  2020-05-15 00:15:00   4136001  iq8k7ZNt4Mwm3w0            26.880811   \n",
       "2  2020-05-15 00:30:00   4136001  iq8k7ZNt4Mwm3w0            26.682055   \n",
       "3  2020-05-15 00:45:00   4136001  iq8k7ZNt4Mwm3w0            26.500589   \n",
       "4  2020-05-15 01:00:00   4136001  iq8k7ZNt4Mwm3w0            26.596148   \n",
       "\n",
       "   MODULE_TEMPERATURE  IRRADIATION  \n",
       "0           25.060789          0.0  \n",
       "1           24.421869          0.0  \n",
       "2           24.427290          0.0  \n",
       "3           24.420678          0.0  \n",
       "4           25.088210          0.0  "
      ]
     },
     "execution_count": 11,
     "metadata": {},
     "output_type": "execute_result"
    }
   ],
   "source": [
    "df_wthr.head()"
   ]
  },
  {
   "cell_type": "markdown",
   "id": "6f86fe40",
   "metadata": {},
   "source": [
    "## Data Description and Overview"
   ]
  },
  {
   "cell_type": "code",
   "execution_count": 12,
   "id": "44860b56",
   "metadata": {},
   "outputs": [
    {
     "data": {
      "text/html": [
       "<div>\n",
       "<style scoped>\n",
       "    .dataframe tbody tr th:only-of-type {\n",
       "        vertical-align: middle;\n",
       "    }\n",
       "\n",
       "    .dataframe tbody tr th {\n",
       "        vertical-align: top;\n",
       "    }\n",
       "\n",
       "    .dataframe thead th {\n",
       "        text-align: right;\n",
       "    }\n",
       "</style>\n",
       "<table border=\"1\" class=\"dataframe\">\n",
       "  <thead>\n",
       "    <tr style=\"text-align: right;\">\n",
       "      <th></th>\n",
       "      <th>PLANT_ID</th>\n",
       "      <th>DC_POWER</th>\n",
       "      <th>AC_POWER</th>\n",
       "      <th>DAILY_YIELD</th>\n",
       "      <th>TOTAL_YIELD</th>\n",
       "    </tr>\n",
       "  </thead>\n",
       "  <tbody>\n",
       "    <tr>\n",
       "      <th>count</th>\n",
       "      <td>67698.0</td>\n",
       "      <td>67698.000000</td>\n",
       "      <td>67698.000000</td>\n",
       "      <td>67698.000000</td>\n",
       "      <td>6.769800e+04</td>\n",
       "    </tr>\n",
       "    <tr>\n",
       "      <th>mean</th>\n",
       "      <td>4136001.0</td>\n",
       "      <td>246.701961</td>\n",
       "      <td>241.277825</td>\n",
       "      <td>3294.890295</td>\n",
       "      <td>6.589448e+08</td>\n",
       "    </tr>\n",
       "    <tr>\n",
       "      <th>std</th>\n",
       "      <td>0.0</td>\n",
       "      <td>370.569597</td>\n",
       "      <td>362.112118</td>\n",
       "      <td>2919.448386</td>\n",
       "      <td>7.296678e+08</td>\n",
       "    </tr>\n",
       "    <tr>\n",
       "      <th>min</th>\n",
       "      <td>4136001.0</td>\n",
       "      <td>0.000000</td>\n",
       "      <td>0.000000</td>\n",
       "      <td>0.000000</td>\n",
       "      <td>0.000000e+00</td>\n",
       "    </tr>\n",
       "    <tr>\n",
       "      <th>25%</th>\n",
       "      <td>4136001.0</td>\n",
       "      <td>0.000000</td>\n",
       "      <td>0.000000</td>\n",
       "      <td>272.750000</td>\n",
       "      <td>1.996494e+07</td>\n",
       "    </tr>\n",
       "    <tr>\n",
       "      <th>50%</th>\n",
       "      <td>4136001.0</td>\n",
       "      <td>0.000000</td>\n",
       "      <td>0.000000</td>\n",
       "      <td>2911.000000</td>\n",
       "      <td>2.826276e+08</td>\n",
       "    </tr>\n",
       "    <tr>\n",
       "      <th>75%</th>\n",
       "      <td>4136001.0</td>\n",
       "      <td>446.591667</td>\n",
       "      <td>438.215000</td>\n",
       "      <td>5534.000000</td>\n",
       "      <td>1.348495e+09</td>\n",
       "    </tr>\n",
       "    <tr>\n",
       "      <th>max</th>\n",
       "      <td>4136001.0</td>\n",
       "      <td>1420.933333</td>\n",
       "      <td>1385.420000</td>\n",
       "      <td>9873.000000</td>\n",
       "      <td>2.247916e+09</td>\n",
       "    </tr>\n",
       "  </tbody>\n",
       "</table>\n",
       "</div>"
      ],
      "text/plain": [
       "        PLANT_ID      DC_POWER      AC_POWER   DAILY_YIELD   TOTAL_YIELD\n",
       "count    67698.0  67698.000000  67698.000000  67698.000000  6.769800e+04\n",
       "mean   4136001.0    246.701961    241.277825   3294.890295  6.589448e+08\n",
       "std          0.0    370.569597    362.112118   2919.448386  7.296678e+08\n",
       "min    4136001.0      0.000000      0.000000      0.000000  0.000000e+00\n",
       "25%    4136001.0      0.000000      0.000000    272.750000  1.996494e+07\n",
       "50%    4136001.0      0.000000      0.000000   2911.000000  2.826276e+08\n",
       "75%    4136001.0    446.591667    438.215000   5534.000000  1.348495e+09\n",
       "max    4136001.0   1420.933333   1385.420000   9873.000000  2.247916e+09"
      ]
     },
     "execution_count": 12,
     "metadata": {},
     "output_type": "execute_result"
    }
   ],
   "source": [
    "df_gen.describe()"
   ]
  },
  {
   "cell_type": "markdown",
   "id": "42ceb9b8",
   "metadata": {},
   "source": [
    "Solar panels generate DC power however our systems run on AC power so when the DC power is converted to AC power, some part of it is lost due to losses in conversion. Therefore, AC power is lower than the DC power."
   ]
  },
  {
   "cell_type": "code",
   "execution_count": 14,
   "id": "9207c02c",
   "metadata": {},
   "outputs": [
    {
     "data": {
      "text/html": [
       "<div>\n",
       "<style scoped>\n",
       "    .dataframe tbody tr th:only-of-type {\n",
       "        vertical-align: middle;\n",
       "    }\n",
       "\n",
       "    .dataframe tbody tr th {\n",
       "        vertical-align: top;\n",
       "    }\n",
       "\n",
       "    .dataframe thead th {\n",
       "        text-align: right;\n",
       "    }\n",
       "</style>\n",
       "<table border=\"1\" class=\"dataframe\">\n",
       "  <thead>\n",
       "    <tr style=\"text-align: right;\">\n",
       "      <th></th>\n",
       "      <th>PLANT_ID</th>\n",
       "      <th>AMBIENT_TEMPERATURE</th>\n",
       "      <th>MODULE_TEMPERATURE</th>\n",
       "      <th>IRRADIATION</th>\n",
       "    </tr>\n",
       "  </thead>\n",
       "  <tbody>\n",
       "    <tr>\n",
       "      <th>count</th>\n",
       "      <td>3259.0</td>\n",
       "      <td>3259.000000</td>\n",
       "      <td>3259.000000</td>\n",
       "      <td>3259.000000</td>\n",
       "    </tr>\n",
       "    <tr>\n",
       "      <th>mean</th>\n",
       "      <td>4136001.0</td>\n",
       "      <td>28.069400</td>\n",
       "      <td>32.772408</td>\n",
       "      <td>0.232737</td>\n",
       "    </tr>\n",
       "    <tr>\n",
       "      <th>std</th>\n",
       "      <td>0.0</td>\n",
       "      <td>4.061556</td>\n",
       "      <td>11.344034</td>\n",
       "      <td>0.312693</td>\n",
       "    </tr>\n",
       "    <tr>\n",
       "      <th>min</th>\n",
       "      <td>4136001.0</td>\n",
       "      <td>20.942385</td>\n",
       "      <td>20.265123</td>\n",
       "      <td>0.000000</td>\n",
       "    </tr>\n",
       "    <tr>\n",
       "      <th>25%</th>\n",
       "      <td>4136001.0</td>\n",
       "      <td>24.602135</td>\n",
       "      <td>23.716881</td>\n",
       "      <td>0.000000</td>\n",
       "    </tr>\n",
       "    <tr>\n",
       "      <th>50%</th>\n",
       "      <td>4136001.0</td>\n",
       "      <td>26.981263</td>\n",
       "      <td>27.534606</td>\n",
       "      <td>0.019040</td>\n",
       "    </tr>\n",
       "    <tr>\n",
       "      <th>75%</th>\n",
       "      <td>4136001.0</td>\n",
       "      <td>31.056757</td>\n",
       "      <td>40.480653</td>\n",
       "      <td>0.438717</td>\n",
       "    </tr>\n",
       "    <tr>\n",
       "      <th>max</th>\n",
       "      <td>4136001.0</td>\n",
       "      <td>39.181638</td>\n",
       "      <td>66.635953</td>\n",
       "      <td>1.098766</td>\n",
       "    </tr>\n",
       "  </tbody>\n",
       "</table>\n",
       "</div>"
      ],
      "text/plain": [
       "        PLANT_ID  AMBIENT_TEMPERATURE  MODULE_TEMPERATURE  IRRADIATION\n",
       "count     3259.0          3259.000000         3259.000000  3259.000000\n",
       "mean   4136001.0            28.069400           32.772408     0.232737\n",
       "std          0.0             4.061556           11.344034     0.312693\n",
       "min    4136001.0            20.942385           20.265123     0.000000\n",
       "25%    4136001.0            24.602135           23.716881     0.000000\n",
       "50%    4136001.0            26.981263           27.534606     0.019040\n",
       "75%    4136001.0            31.056757           40.480653     0.438717\n",
       "max    4136001.0            39.181638           66.635953     1.098766"
      ]
     },
     "execution_count": 14,
     "metadata": {},
     "output_type": "execute_result"
    }
   ],
   "source": [
    "df_wthr.describe()"
   ]
  },
  {
   "cell_type": "markdown",
   "id": "6fc4d31d",
   "metadata": {},
   "source": [
    "There is a big difference between the 75th percentile and the maximum values of both ambient and module temperature. This indicates that the distribution is positively skewed."
   ]
  },
  {
   "cell_type": "code",
   "execution_count": 51,
   "id": "00a9110c",
   "metadata": {},
   "outputs": [
    {
     "data": {
      "image/png": "[encoded data removed]",
      "text/plain": [
       "<Figure size 1200x500 with 2 Axes>"
      ]
     },
     "metadata": {},
     "output_type": "display_data"
    }
   ],
   "source": [
    "fig, [ax1, ax2] = plt.subplots(1, 2, figsize=(12,5))\n",
    "sns.histplot(df_wthr.AMBIENT_TEMPERATURE, kde= True, stat = 'density',ax = ax1)\n",
    "sns.histplot(df_wthr.MODULE_TEMPERATURE, kde= True, stat = 'density',ax = ax2)\n",
    "plt.show()"
   ]
  },
  {
   "cell_type": "markdown",
   "id": "93483853",
   "metadata": {},
   "source": [
    "These distributions illustrate that the ambient temperature rarely go above 35.\n",
    "\n",
    "The higher temperature value would be during the day time on a bright sunny day and the lower value point out either night time\n",
    "or a cloudy day.\n",
    "\n",
    "Also, if we take a look at the left figure we can see that the most common temperature value is between 23-24, and then there is\n",
    "a bump at around 33-34 degrees. Both these facts indicate shorter solar hours."
   ]
  },
  {
   "cell_type": "code",
   "execution_count": 55,
   "id": "e50e2406",
   "metadata": {},
   "outputs": [
    {
     "name": "stdout",
     "output_type": "stream",
     "text": [
      "<class 'pandas.core.frame.DataFrame'>\n",
      "RangeIndex: 67698 entries, 0 to 67697\n",
      "Data columns (total 7 columns):\n",
      " #   Column       Non-Null Count  Dtype  \n",
      "---  ------       --------------  -----  \n",
      " 0   DATE_TIME    67698 non-null  object \n",
      " 1   PLANT_ID     67698 non-null  int64  \n",
      " 2   SOURCE_KEY   67698 non-null  object \n",
      " 3   DC_POWER     67698 non-null  float64\n",
      " 4   AC_POWER     67698 non-null  float64\n",
      " 5   DAILY_YIELD  67698 non-null  float64\n",
      " 6   TOTAL_YIELD  67698 non-null  float64\n",
      "dtypes: float64(4), int64(1), object(2)\n",
      "memory usage: 3.6+ MB\n"
     ]
    }
   ],
   "source": [
    "df_gen.info()"
   ]
  },
  {
   "cell_type": "code",
   "execution_count": 56,
   "id": "186047e3",
   "metadata": {},
   "outputs": [
    {
     "name": "stdout",
     "output_type": "stream",
     "text": [
      "<class 'pandas.core.frame.DataFrame'>\n",
      "RangeIndex: 3259 entries, 0 to 3258\n",
      "Data columns (total 6 columns):\n",
      " #   Column               Non-Null Count  Dtype  \n",
      "---  ------               --------------  -----  \n",
      " 0   DATE_TIME            3259 non-null   object \n",
      " 1   PLANT_ID             3259 non-null   int64  \n",
      " 2   SOURCE_KEY           3259 non-null   object \n",
      " 3   AMBIENT_TEMPERATURE  3259 non-null   float64\n",
      " 4   MODULE_TEMPERATURE   3259 non-null   float64\n",
      " 5   IRRADIATION          3259 non-null   float64\n",
      "dtypes: float64(3), int64(1), object(2)\n",
      "memory usage: 152.9+ KB\n"
     ]
    }
   ],
   "source": [
    "df_wthr.info()"
   ]
  },
  {
   "cell_type": "markdown",
   "id": "c3692d02",
   "metadata": {},
   "source": [
    "## Data Manipulation"
   ]
  },
  {
   "cell_type": "code",
   "execution_count": 73,
   "id": "d7cc460d",
   "metadata": {
    "code_folding": [
     0
    ]
   },
   "outputs": [
    {
     "name": "stdout",
     "output_type": "stream",
     "text": [
      "No. of unique plant IDs (gen data): 1\n",
      "No. of unique plant IDs (weather data): 1\n",
      "No. of (unique) invertors: 22\n",
      "No. of sensors for weather data: 1\n",
      "\n",
      "Missing/Null values in generation dataset\n",
      "\n",
      "DATE_TIME      0\n",
      "PLANT_ID       0\n",
      "SOURCE_KEY     0\n",
      "DC_POWER       0\n",
      "AC_POWER       0\n",
      "DAILY_YIELD    0\n",
      "TOTAL_YIELD    0\n",
      "dtype: int64\n",
      "\n",
      "Missing/Null values in weather dataset\n",
      "\n",
      "DATE_TIME              0\n",
      "PLANT_ID               0\n",
      "SOURCE_KEY             0\n",
      "AMBIENT_TEMPERATURE    0\n",
      "MODULE_TEMPERATURE     0\n",
      "IRRADIATION            0\n",
      "dtype: int64\n"
     ]
    }
   ],
   "source": [
    "# Missing value information\n",
    "print('No. of unique plant IDs (gen data):', df_gen.PLANT_ID.nunique())\n",
    "print('No. of unique plant IDs (weather data):', df_wthr.PLANT_ID.nunique())\n",
    "print('No. of (unique) invertors:', df_gen.SOURCE_KEY.nunique())\n",
    "print('No. of sensors for weather data:', df_wthr.SOURCE_KEY.nunique())\n",
    "print(f'\\nMissing/Null values in generation dataset\\n\\n{df_gen.isnull().sum()}')\n",
    "print(f'\\nMissing/Null values in weather dataset\\n\\n{df_wthr.isnull().sum()}')"
   ]
  },
  {
   "cell_type": "markdown",
   "id": "1b1f233b",
   "metadata": {},
   "source": [
    "1. The plant id is the same for all the observations in both dataset.\n",
    "\n",
    "2. The source key is same for all the observations in weather dataset which shows that all the readings have been taken by a single sensor. The source key for this dataset can be dropped.\n",
    "\n",
    "3. There are a total of 22 different source key in generation dataset and each source key represent a different inverter in this\n",
    "plant.\n",
    "\n",
    "4. There are no missing values in either of the dataset.\n",
    "\n",
    "5. As the aim of this project is to predict genreation so we can drop the daily yield and total yield columns as well. These \n",
    "columns might be interesting for tasks like fault detection and maintenance predictions but not for our task."
   ]
  },
  {
   "cell_type": "code",
   "execution_count": 91,
   "id": "7a3b0f14",
   "metadata": {},
   "outputs": [],
   "source": [
    "# Dropping ineffective columns\n",
    "df_gen.drop('PLANT_ID', axis = 1,inplace = True)\n",
    "df_wthr.drop('PLANT_ID', axis = 1,inplace = True)\n",
    "df_wthr.drop('SOURCE_KEY',axis =1, inplace = True)\n",
    "\n",
    "# mapping the source key column in generation dataset\n",
    "inv_lbl = {inv_name: inv_no for inv_no, inv_name in enumerate(df_gen.SOURCE_KEY.unique(),1)}\n",
    "df_gen['INV_NUM'] = df_gen.SOURCE_KEY.map(inv_lbl)\n",
    "\n",
    "df_gen.drop('SOURCE_KEY', axis=1, inplace = True)\n",
    "\n",
    "df_gen = df_gen[['DATE_TIME', 'INV_NUM','DC_POWER','AC_POWER']]"
   ]
  },
  {
   "cell_type": "code",
   "execution_count": 113,
   "id": "d8bc9d55",
   "metadata": {},
   "outputs": [
    {
     "data": {
      "image/png": "[encoded data removed]",
      "text/plain": [
       "<Figure size 640x480 with 1 Axes>"
      ]
     },
     "metadata": {},
     "output_type": "display_data"
    }
   ],
   "source": [
    "plt.bar(range(1,23), df_gen.groupby('INV_NUM')['DATE_TIME'].count())\n",
    "plt.ylabel('Counts')\n",
    "plt.xlabel('Inverter Number')\n",
    "plt.xticks(range(1,23))\n",
    "plt.show()"
   ]
  },
  {
   "cell_type": "code",
   "execution_count": 145,
   "id": "bff925ab",
   "metadata": {},
   "outputs": [
    {
     "name": "stdout",
     "output_type": "stream",
     "text": [
      "\n",
      "The minimum number of recorded observations are 2355\n",
      "The maximum number of recorded observations are 3259\n",
      "The difference between the maximum and minimum observations is 904\n"
     ]
    }
   ],
   "source": [
    "# count_lst = df_gen.groupby('INV_NUM')['DATE_TIME'].count().tolist()\n",
    "# for i in range(1,len(count_lst)+1):\n",
    "#     print(f'Inverter {i} has {count_lst[i-1]} timestamps')\n",
    "min_val = df_gen.groupby('INV_NUM')['DATE_TIME'].count().min()\n",
    "max_val = df_gen.groupby('INV_NUM')['DATE_TIME'].count().max()\n",
    "print(f'\\nThe minimum number of recorded observations are {min_val}')\n",
    "print(f'The maximum number of recorded observations are {max_val}')\n",
    "print(f'The difference between the maximum and minimum observations is {max_val - min_val}')"
   ]
  },
  {
   "cell_type": "code",
   "execution_count": 143,
   "id": "a2832dce",
   "metadata": {},
   "outputs": [
    {
     "data": {
      "text/html": [
       "<div>\n",
       "<style scoped>\n",
       "    .dataframe tbody tr th:only-of-type {\n",
       "        vertical-align: middle;\n",
       "    }\n",
       "\n",
       "    .dataframe tbody tr th {\n",
       "        vertical-align: top;\n",
       "    }\n",
       "\n",
       "    .dataframe thead th {\n",
       "        text-align: right;\n",
       "    }\n",
       "</style>\n",
       "<table border=\"1\" class=\"dataframe\">\n",
       "  <thead>\n",
       "    <tr style=\"text-align: right;\">\n",
       "      <th>INV_NUM</th>\n",
       "      <th>1</th>\n",
       "      <th>2</th>\n",
       "      <th>3</th>\n",
       "      <th>4</th>\n",
       "      <th>5</th>\n",
       "      <th>6</th>\n",
       "      <th>7</th>\n",
       "      <th>8</th>\n",
       "      <th>9</th>\n",
       "      <th>10</th>\n",
       "      <th>...</th>\n",
       "      <th>13</th>\n",
       "      <th>14</th>\n",
       "      <th>15</th>\n",
       "      <th>16</th>\n",
       "      <th>17</th>\n",
       "      <th>18</th>\n",
       "      <th>19</th>\n",
       "      <th>20</th>\n",
       "      <th>21</th>\n",
       "      <th>22</th>\n",
       "    </tr>\n",
       "    <tr>\n",
       "      <th>DATE_TIME</th>\n",
       "      <th></th>\n",
       "      <th></th>\n",
       "      <th></th>\n",
       "      <th></th>\n",
       "      <th></th>\n",
       "      <th></th>\n",
       "      <th></th>\n",
       "      <th></th>\n",
       "      <th></th>\n",
       "      <th></th>\n",
       "      <th></th>\n",
       "      <th></th>\n",
       "      <th></th>\n",
       "      <th></th>\n",
       "      <th></th>\n",
       "      <th></th>\n",
       "      <th></th>\n",
       "      <th></th>\n",
       "      <th></th>\n",
       "      <th></th>\n",
       "      <th></th>\n",
       "    </tr>\n",
       "  </thead>\n",
       "  <tbody>\n",
       "    <tr>\n",
       "      <th>2355</th>\n",
       "      <td>0</td>\n",
       "      <td>0</td>\n",
       "      <td>0</td>\n",
       "      <td>0</td>\n",
       "      <td>1</td>\n",
       "      <td>0</td>\n",
       "      <td>0</td>\n",
       "      <td>0</td>\n",
       "      <td>1</td>\n",
       "      <td>0</td>\n",
       "      <td>...</td>\n",
       "      <td>0</td>\n",
       "      <td>0</td>\n",
       "      <td>1</td>\n",
       "      <td>0</td>\n",
       "      <td>0</td>\n",
       "      <td>0</td>\n",
       "      <td>0</td>\n",
       "      <td>0</td>\n",
       "      <td>1</td>\n",
       "      <td>0</td>\n",
       "    </tr>\n",
       "    <tr>\n",
       "      <th>3195</th>\n",
       "      <td>1</td>\n",
       "      <td>0</td>\n",
       "      <td>0</td>\n",
       "      <td>1</td>\n",
       "      <td>0</td>\n",
       "      <td>0</td>\n",
       "      <td>0</td>\n",
       "      <td>1</td>\n",
       "      <td>0</td>\n",
       "      <td>0</td>\n",
       "      <td>...</td>\n",
       "      <td>0</td>\n",
       "      <td>0</td>\n",
       "      <td>0</td>\n",
       "      <td>1</td>\n",
       "      <td>0</td>\n",
       "      <td>0</td>\n",
       "      <td>0</td>\n",
       "      <td>0</td>\n",
       "      <td>0</td>\n",
       "      <td>0</td>\n",
       "    </tr>\n",
       "    <tr>\n",
       "      <th>3259</th>\n",
       "      <td>0</td>\n",
       "      <td>1</td>\n",
       "      <td>1</td>\n",
       "      <td>0</td>\n",
       "      <td>0</td>\n",
       "      <td>1</td>\n",
       "      <td>1</td>\n",
       "      <td>0</td>\n",
       "      <td>0</td>\n",
       "      <td>1</td>\n",
       "      <td>...</td>\n",
       "      <td>1</td>\n",
       "      <td>1</td>\n",
       "      <td>0</td>\n",
       "      <td>0</td>\n",
       "      <td>1</td>\n",
       "      <td>1</td>\n",
       "      <td>1</td>\n",
       "      <td>1</td>\n",
       "      <td>0</td>\n",
       "      <td>1</td>\n",
       "    </tr>\n",
       "  </tbody>\n",
       "</table>\n",
       "<p>3 rows × 22 columns</p>\n",
       "</div>"
      ],
      "text/plain": [
       "INV_NUM    1   2   3   4   5   6   7   8   9   10  ...  13  14  15  16  17  \\\n",
       "DATE_TIME                                          ...                       \n",
       "2355        0   0   0   0   1   0   0   0   1   0  ...   0   0   1   0   0   \n",
       "3195        1   0   0   1   0   0   0   1   0   0  ...   0   0   0   1   0   \n",
       "3259        0   1   1   0   0   1   1   0   0   1  ...   1   1   0   0   1   \n",
       "\n",
       "INV_NUM    18  19  20  21  22  \n",
       "DATE_TIME                      \n",
       "2355        0   0   0   1   0  \n",
       "3195        0   0   0   0   0  \n",
       "3259        1   1   1   0   1  \n",
       "\n",
       "[3 rows x 22 columns]"
      ]
     },
     "execution_count": 143,
     "metadata": {},
     "output_type": "execute_result"
    }
   ],
   "source": [
    "inv_counts = df_gen.groupby('INV_NUM')['DATE_TIME'].count().reset_index()\n",
    "pd.crosstab(inv_counts['DATE_TIME'],inv_counts['INV_NUM'])"
   ]
  },
  {
   "cell_type": "markdown",
   "id": "02c1b843",
   "metadata": {},
   "source": [
    "Some inverters have more values and some have less. For our analysis, we need values from all the inverters for each timestamp.\n",
    "We can either impute the missing values or remove the extra rows. Removing the excess rows will lead to loss of significant amount of valuable data so imputation of the missing values seem a better option."
   ]
  },
  {
   "cell_type": "markdown",
   "id": "06d56c03",
   "metadata": {},
   "source": [
    "Right now, the data is inverter-wise however we want it to be day-wise (timestamp wise) for our model. We want to sum the `AC_Power` and `DC_POWER` from all the inverters for each timestamp."
   ]
  },
  {
   "cell_type": "code",
   "execution_count": null,
   "id": "8b31d6c3",
   "metadata": {},
   "outputs": [],
   "source": []
  }
 ],
 "metadata": {
  "kernelspec": {
   "display_name": "Python 3 (ipykernel)",
   "language": "python",
   "name": "python3"
  },
  "language_info": {
   "codemirror_mode": {
    "name": "ipython",
    "version": 3
   },
   "file_extension": ".py",
   "mimetype": "text/x-python",
   "name": "python",
   "nbconvert_exporter": "python",
   "pygments_lexer": "ipython3",
   "version": "3.9.13"
  }
 },
 "nbformat": 4,
 "nbformat_minor": 5
}
